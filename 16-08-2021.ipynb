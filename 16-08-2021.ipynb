{
 "cells": [
  {
   "cell_type": "code",
   "execution_count": 4,
   "id": "040ca1ef",
   "metadata": {},
   "outputs": [
    {
     "name": "stdout",
     "output_type": "stream",
     "text": [
      "surya\n"
     ]
    }
   ],
   "source": [
    "print(\"surya\")\n",
    "\n"
   ]
  },
  {
   "cell_type": "code",
   "execution_count": null,
   "id": "14db0998",
   "metadata": {},
   "outputs": [],
   "source": []
  },
  {
   "cell_type": "code",
   "execution_count": null,
   "id": "5dc24de5",
   "metadata": {},
   "outputs": [],
   "source": []
  },
  {
   "cell_type": "code",
   "execution_count": null,
   "id": "96578840",
   "metadata": {},
   "outputs": [],
   "source": []
  },
  {
   "cell_type": "code",
   "execution_count": 5,
   "id": "92ef40c9",
   "metadata": {},
   "outputs": [
    {
     "name": "stdout",
     "output_type": "stream",
     "text": [
      "python programming\n"
     ]
    }
   ],
   "source": [
    "print(\"python programming\")"
   ]
  },
  {
   "cell_type": "code",
   "execution_count": null,
   "id": "4213c020",
   "metadata": {},
   "outputs": [],
   "source": []
  },
  {
   "cell_type": "code",
   "execution_count": 6,
   "id": "2ce3e286",
   "metadata": {},
   "outputs": [
    {
     "name": "stdout",
     "output_type": "stream",
     "text": [
      "welcome to apssdc\n"
     ]
    }
   ],
   "source": [
    "print(\"welcome to apssdc\")"
   ]
  },
  {
   "cell_type": "code",
   "execution_count": 2,
   "id": "49abd951",
   "metadata": {
    "scrolled": true
   },
   "outputs": [
    {
     "name": "stdout",
     "output_type": "stream",
     "text": [
      "welcome to apssdc\n"
     ]
    }
   ],
   "source": [
    "print(\"welcome to apssdc\")"
   ]
  },
  {
   "cell_type": "code",
   "execution_count": null,
   "id": "0eab5d15",
   "metadata": {},
   "outputs": [],
   "source": []
  },
  {
   "cell_type": "code",
   "execution_count": null,
   "id": "584848f7",
   "metadata": {},
   "outputs": [],
   "source": []
  },
  {
   "cell_type": "code",
   "execution_count": null,
   "id": "ec33975a",
   "metadata": {},
   "outputs": [],
   "source": []
  },
  {
   "cell_type": "code",
   "execution_count": 2,
   "id": "6014892e",
   "metadata": {
    "scrolled": true
   },
   "outputs": [
    {
     "name": "stdout",
     "output_type": "stream",
     "text": [
      "welcome to apssdc\n"
     ]
    }
   ],
   "source": [
    "print(\"welcome to apssdc\")"
   ]
  },
  {
   "cell_type": "code",
   "execution_count": null,
   "id": "80faefef",
   "metadata": {},
   "outputs": [],
   "source": []
  },
  {
   "cell_type": "code",
   "execution_count": 3,
   "id": "2250ad32",
   "metadata": {
    "scrolled": true
   },
   "outputs": [
    {
     "name": "stdout",
     "output_type": "stream",
     "text": [
      "welcome to apssdc\n"
     ]
    }
   ],
   "source": [
    "print(\"welcome to apssdc\")"
   ]
  },
  {
   "cell_type": "markdown",
   "id": "fa716292",
   "metadata": {},
   "source": [
    "# heading 1\n",
    "## heading 2\n",
    "###### heading 6\n",
    "\n",
    "python 1\n",
    "=======\n",
    "python 2\n",
    "-------------\n",
    "\n",
    "\n",
    "hai good morning to all      \n",
    "how are you\n",
    "\n",
    "*italic*       \n",
    "_italic2_\n",
    "\n",
    "**strong**       \n",
    "__strong2__\n",
    "\n",
    "\n",
    "\n",
    "\n",
    "This is**bold**text    \n",
    "This is __bold__ text\n",
    "\n",
    "\n",
    "***bold & italic***     \n",
    "___bold & italic___   \n",
    "*__bold & italic__*     \n",
    "_**bold & italic**_\n",
    "\n",
    "\n",
    "# list\n",
    "***\n",
    "## unordered list\n",
    "---\n",
    "\n",
    "* fruits\n",
    "    * apple\n",
    "        * red apple\n",
    "        * white apple\n",
    "            * green apple      \n",
    "            \n",
    " \n",
    " - fruits\n",
    "    - apple\n",
    "        - red apple\n",
    "        - white apple\n",
    "            - green apple      \n",
    "            \n",
    " + fruits\n",
    "    + apple\n",
    "        + red apple\n",
    "        + white apple\n",
    "            + green apple    \n",
    "            \n",
    "## ordered list\n",
    "___\n",
    "\n",
    "1. potatoes    \n",
    "2. onion\n",
    "         1. white onion     \n",
    "         2. red onion    \n",
    "         \n",
    "         \n",
    "         \n",
    "> **python programming**\n",
    ">> Python is high-level,interpreted,interactive,object-oriented language\n",
    "\n",
    "**image**    \n",
    "<!-- ![python icon](pythonicon.png) -->\n",
    "\n",
    "<img src=\"pythonicon.png\" alt=\"image\" height=100px width=100px>\n",
    "\n",
    "\n",
    "**backticks**\n",
    "***\n",
    "``This is `python` programming language``\n",
    "\n",
    "\n",
    "**navigation**    \n",
    "***\n",
    "click on this [link](https://www.google.com/) navigate to google.    \n",
    "click on this [link](https://www.google.com/ \"The best search engine\") navigate to google\n",
    "\n",
    "\n",
    "**Url's and navigations**    \n",
    "<https://www.google.com/>    \n",
    "<surya@gmail.com>\n",
    "\n",
    "\n",
    "\n",
    "<h1>first heading</h1>\n",
    "<h6>sixth heading</h6> "
   ]
  },
  {
   "cell_type": "code",
   "execution_count": null,
   "id": "08016cdb",
   "metadata": {},
   "outputs": [],
   "source": []
  },
  {
   "cell_type": "code",
   "execution_count": null,
   "id": "57dc64e4",
   "metadata": {},
   "outputs": [],
   "source": []
  }
 ],
 "metadata": {
  "kernelspec": {
   "display_name": "Python 3",
   "language": "python",
   "name": "python3"
  },
  "language_info": {
   "codemirror_mode": {
    "name": "ipython",
    "version": 3
   },
   "file_extension": ".py",
   "mimetype": "text/x-python",
   "name": "python",
   "nbconvert_exporter": "python",
   "pygments_lexer": "ipython3",
   "version": "3.8.8"
  }
 },
 "nbformat": 4,
 "nbformat_minor": 5
}
